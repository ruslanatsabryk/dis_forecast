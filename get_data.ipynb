{
 "cells": [
  {
   "cell_type": "markdown",
   "id": "ebfa2ece-3be1-47b5-b1e8-7bbf09fccb39",
   "metadata": {},
   "source": [
    "## Этап обработки данных (ELT процесс)"
   ]
  },
  {
   "cell_type": "markdown",
   "id": "0edbf3d1-3e31-4a20-bb74-197403e8ea5f",
   "metadata": {},
   "source": [
    "Этап выполняется с целью подготовки данных для последующего обучения моделей (ноутбуки sklearn_models.ipynb, pytorch_models.ipynb) на данных,\n",
    "извлекаемых из API https://i.centr.by/inforoads/api/v3/measurings.\n",
    "Целью обучения является прогнозирование значения surface ['Closed' 'Dry' 'MoreWet' 'Wet' 'WetAndChemicals'] методом классификации.\n"
   ]
  },
  {
   "cell_type": "code",
   "execution_count": null,
   "id": "944ac863-25b4-4896-a329-ec22abb3b6bd",
   "metadata": {},
   "outputs": [],
   "source": [
    "import requests\n",
    "from io import StringIO\n",
    "import pandas as pd\n",
    "from sklearn.preprocessing import OneHotEncoder, LabelBinarizer\n",
    "import numpy as np"
   ]
  },
  {
   "cell_type": "markdown",
   "id": "0ea11187-7ddd-4045-9e74-e0eeae1266e6",
   "metadata": {},
   "source": [
    "### Извлечение данных (Extract)"
   ]
  },
  {
   "cell_type": "code",
   "execution_count": 2,
   "id": "d68b62a3-48f6-45d8-babb-bf14c3de431c",
   "metadata": {},
   "outputs": [
    {
     "name": "stdout",
     "output_type": "stream",
     "text": [
      "200\n"
     ]
    }
   ],
   "source": [
    "# Загрузка данных с API\n",
    "response = requests.get('https://i.centr.by/inforoads/api/v3/measurings')\n",
    "print(response.status_code)"
   ]
  },
  {
   "cell_type": "markdown",
   "id": "251dc533-d009-4179-9098-8e703becedc2",
   "metadata": {},
   "source": [
    "### Загрузка данных (Load)"
   ]
  },
  {
   "cell_type": "code",
   "execution_count": 3,
   "id": "6f3fb248-e407-4611-a5d6-1239e0f1fb39",
   "metadata": {},
   "outputs": [],
   "source": [
    "# Преобразование в Pandas DataFrame\n",
    "df = pd.DataFrame(response.json())"
   ]
  },
  {
   "cell_type": "code",
   "execution_count": 4,
   "id": "75394aa2-6f3f-4b79-b939-140f8239df55",
   "metadata": {},
   "outputs": [
    {
     "name": "stdout",
     "output_type": "stream",
     "text": [
      "<class 'pandas.core.frame.DataFrame'>\n",
      "RangeIndex: 130 entries, 0 to 129\n",
      "Data columns (total 30 columns):\n",
      " #   Column                          Non-Null Count  Dtype  \n",
      "---  ------                          --------------  -----  \n",
      " 0   disId                           130 non-null    int64  \n",
      " 1   date                            130 non-null    object \n",
      " 2   airTemperature                  129 non-null    float64\n",
      " 3   humidity                        129 non-null    float64\n",
      " 4   dewPoint                        129 non-null    float64\n",
      " 5   isRain                          130 non-null    bool   \n",
      " 6   windSpeed                       129 non-null    float64\n",
      " 7   windDirection                   129 non-null    float64\n",
      " 8   windCardinalDirection           130 non-null    object \n",
      " 9   windCardinalDirectionLocalized  130 non-null    object \n",
      " 10  precipitationAmount             112 non-null    float64\n",
      " 11  precipitationIntensity          128 non-null    float64\n",
      " 12  snowHeight                      108 non-null    float64\n",
      " 13  visibility                      117 non-null    float64\n",
      " 14  pressure                        24 non-null     float64\n",
      " 15  temperatureTrend                0 non-null      object \n",
      " 16  precipitation                   130 non-null    object \n",
      " 17  precipitationLocalized          130 non-null    object \n",
      " 18  roadTemperature                 126 non-null    float64\n",
      " 19  soilTemperature                 126 non-null    float64\n",
      " 20  frequencyOfBlackIce             59 non-null     float64\n",
      " 21  freezingPointLiquidus           122 non-null    float64\n",
      " 22  freezingPointSolidus            123 non-null    float64\n",
      " 23  chemicalConcentration           122 non-null    float64\n",
      " 24  chemicalQuantity                109 non-null    float64\n",
      " 25  waterLayerHeight                122 non-null    float64\n",
      " 26  warning                         0 non-null      object \n",
      " 27  warningLocalized                0 non-null      object \n",
      " 28  surface                         130 non-null    object \n",
      " 29  surfaceLocalized                122 non-null    object \n",
      "dtypes: bool(1), float64(18), int64(1), object(10)\n",
      "memory usage: 29.7+ KB\n"
     ]
    }
   ],
   "source": [
    "df.info()"
   ]
  },
  {
   "cell_type": "markdown",
   "id": "16e3a8a0-786f-4e95-9aa0-c61fd87a51a2",
   "metadata": {},
   "source": [
    "### Трансформация данных (Transform)"
   ]
  },
  {
   "cell_type": "markdown",
   "id": "a3094a10-d355-4b2f-9910-91bdc7460770",
   "metadata": {},
   "source": [
    "#### Очистка данных"
   ]
  },
  {
   "cell_type": "code",
   "execution_count": 5,
   "id": "d5f93adf-c160-4ceb-a7d3-d26a3037b34b",
   "metadata": {},
   "outputs": [],
   "source": [
    "# Удалим дублирующие колонки\n",
    "df_d = df.drop(\n",
    "    ['windCardinalDirectionLocalized', 'precipitationLocalized', 'warningLocalized', 'surfaceLocalized'],\n",
    "    axis='columns'                \n",
    ")\n",
    "\n",
    "# Удалим колонки с отсутствующими значениями, которые могут значительно сократить выборку\n",
    "df_c = df_d.drop(\n",
    "    ['pressure', 'temperatureTrend', 'frequencyOfBlackIce', 'warning'],\n",
    "    axis='columns'\n",
    ")\n",
    "\n",
    "# Удалим строки с отсутствующими значениями\n",
    "df_r = df_c.dropna()"
   ]
  },
  {
   "cell_type": "markdown",
   "id": "00782ee6-953c-4acf-87fb-d320380c8f0d",
   "metadata": {},
   "source": [
    "#### Преобразование данных"
   ]
  },
  {
   "cell_type": "code",
   "execution_count": 6,
   "id": "9ec1bc65-cfa9-42cb-ac31-769dfa7db013",
   "metadata": {},
   "outputs": [
    {
     "name": "stdout",
     "output_type": "stream",
     "text": [
      "<class 'pandas.core.series.Series'>\n",
      "Index: 104 entries, 1 to 127\n",
      "Series name: surface\n",
      "Non-Null Count  Dtype \n",
      "--------------  ----- \n",
      "104 non-null    object\n",
      "dtypes: object(1)\n",
      "memory usage: 1.6+ KB\n",
      "[array([False,  True]), array(['E', 'N', 'NE', 'NW', 'S', 'SE', 'SW', 'W'], dtype=object), array(['Clear', 'Cloudy', 'NoPrecipitation', 'WeakRain'], dtype=object)]\n"
     ]
    }
   ],
   "source": [
    "# Выберем колонки с категориальными значениями для one-hot кодирования\n",
    "categirical = df_r[['isRain', 'windCardinalDirection', 'precipitation']]\n",
    "\n",
    "# Выберем колонку с метками\n",
    "surface = df_r['surface']\n",
    "surface.info()\n",
    "\n",
    "# Удалим колонки с категориальными значениями и данными для меток из исходного набора\n",
    "df_r = df_r.drop(['disId', 'date', 'isRain', 'windCardinalDirection', 'precipitation', 'surface'], axis='columns')\n",
    "\n",
    "# Кодирование категориальных переменных (one-hot encoding)\n",
    "oh_enc = OneHotEncoder()\n",
    "oh_enc.fit(categirical)\n",
    "encoded = oh_enc.transform(categirical).toarray()\n",
    "print(oh_enc.categories_)"
   ]
  },
  {
   "cell_type": "code",
   "execution_count": 7,
   "id": "8360db6c-a049-4113-8601-68e83499ca26",
   "metadata": {},
   "outputs": [],
   "source": [
    "# Преобразуем закодированные колонки в DataFrame\n",
    "encoded_df = pd.DataFrame(encoded)\n",
    "encoded_df.head()\n",
    "df_concat = pd.concat([df_r.reset_index(drop=True), encoded_df], axis=1)"
   ]
  },
  {
   "cell_type": "code",
   "execution_count": 8,
   "id": "987d6f5c-8744-4ba9-bc02-68042d9fcf74",
   "metadata": {},
   "outputs": [
    {
     "name": "stdout",
     "output_type": "stream",
     "text": [
      "<class 'pandas.core.frame.DataFrame'>\n",
      "RangeIndex: 104 entries, 0 to 103\n",
      "Data columns (total 30 columns):\n",
      " #   Column                  Non-Null Count  Dtype  \n",
      "---  ------                  --------------  -----  \n",
      " 0   airTemperature          104 non-null    float64\n",
      " 1   humidity                104 non-null    float64\n",
      " 2   dewPoint                104 non-null    float64\n",
      " 3   windSpeed               104 non-null    float64\n",
      " 4   windDirection           104 non-null    float64\n",
      " 5   precipitationAmount     104 non-null    float64\n",
      " 6   precipitationIntensity  104 non-null    float64\n",
      " 7   snowHeight              104 non-null    float64\n",
      " 8   visibility              104 non-null    float64\n",
      " 9   roadTemperature         104 non-null    float64\n",
      " 10  soilTemperature         104 non-null    float64\n",
      " 11  freezingPointLiquidus   104 non-null    float64\n",
      " 12  freezingPointSolidus    104 non-null    float64\n",
      " 13  chemicalConcentration   104 non-null    float64\n",
      " 14  chemicalQuantity        104 non-null    float64\n",
      " 15  waterLayerHeight        104 non-null    float64\n",
      " 16  0                       104 non-null    float64\n",
      " 17  1                       104 non-null    float64\n",
      " 18  2                       104 non-null    float64\n",
      " 19  3                       104 non-null    float64\n",
      " 20  4                       104 non-null    float64\n",
      " 21  5                       104 non-null    float64\n",
      " 22  6                       104 non-null    float64\n",
      " 23  7                       104 non-null    float64\n",
      " 24  8                       104 non-null    float64\n",
      " 25  9                       104 non-null    float64\n",
      " 26  10                      104 non-null    float64\n",
      " 27  11                      104 non-null    float64\n",
      " 28  12                      104 non-null    float64\n",
      " 29  13                      104 non-null    float64\n",
      "dtypes: float64(30)\n",
      "memory usage: 24.5 KB\n"
     ]
    }
   ],
   "source": [
    "df_concat.info()"
   ]
  },
  {
   "cell_type": "markdown",
   "id": "165d1cb2-df2a-4757-b220-bfe9a6f52b04",
   "metadata": {},
   "source": [
    "#### Разделение данных"
   ]
  },
  {
   "cell_type": "code",
   "execution_count": null,
   "id": "45da046c-7fcd-4bfc-b7a1-213a32b4b5c2",
   "metadata": {},
   "outputs": [],
   "source": [
    "# Закодируем метки - прогнозируемое категориальное значение (one-hot encoding)\n",
    "lb = LabelBinarizer()\n",
    "oh_labels = lb.fit_transform(surface)\n",
    "ordinal_labels = np.argmax(oh_labels, axis=1)[:, np.newaxis]\n",
    "labels = np.hstack((ordinal_labels, oh_labels))\n"
   ]
  },
  {
   "cell_type": "code",
   "execution_count": 14,
   "id": "26ef4115-2d18-4906-bb5d-bc7ec72b639b",
   "metadata": {},
   "outputs": [
    {
     "name": "stdout",
     "output_type": "stream",
     "text": [
      "['Closed' 'Dry' 'MoreWet' 'Wet' 'WetAndChemicals']\n"
     ]
    }
   ],
   "source": [
    "print(lb.classes_)"
   ]
  },
  {
   "cell_type": "code",
   "execution_count": 10,
   "id": "910b9dca-9bd3-4314-8c59-b55a7c71971e",
   "metadata": {},
   "outputs": [],
   "source": [
    "# Сохраним метки в csv-файл\n",
    "df_labels = pd.DataFrame(labels)\n",
    "df_labels.to_csv('labels.csv', index=False)"
   ]
  },
  {
   "cell_type": "code",
   "execution_count": 11,
   "id": "5e3fc964-40ef-4953-ad22-8c8637cd3724",
   "metadata": {},
   "outputs": [],
   "source": [
    "# Сохраним набор данных в csv-файл\n",
    "df_concat.to_csv('dataset.csv', index=False)"
   ]
  },
  {
   "cell_type": "code",
   "execution_count": null,
   "id": "a10160d2-884b-4907-a7e1-652219bb8de3",
   "metadata": {},
   "outputs": [],
   "source": []
  }
 ],
 "metadata": {
  "kernelspec": {
   "display_name": "Python 3 (ipykernel)",
   "language": "python",
   "name": "python3"
  },
  "language_info": {
   "codemirror_mode": {
    "name": "ipython",
    "version": 3
   },
   "file_extension": ".py",
   "mimetype": "text/x-python",
   "name": "python",
   "nbconvert_exporter": "python",
   "pygments_lexer": "ipython3",
   "version": "3.13.2"
  }
 },
 "nbformat": 4,
 "nbformat_minor": 5
}
