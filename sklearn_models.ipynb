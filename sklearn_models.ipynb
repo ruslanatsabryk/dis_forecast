{
 "cells": [
  {
   "cell_type": "markdown",
   "id": "a70f101f-7b3b-4423-a8ce-11580a520e90",
   "metadata": {},
   "source": [
    "## Модели scikit-learn - задача классификации с использованием непараметрических, вероятностных, ансамблевых методов, в т.ч. бустингов"
   ]
  },
  {
   "cell_type": "markdown",
   "id": "e544422a-141e-45a5-8a85-61d684962e80",
   "metadata": {},
   "source": [
    "Обучение моделей на данных, извлекаемых из API https://i.centr.by/inforoads/api/v3/measurings.\n",
    "Целью обучения является прогнозирование значения surface ['Closed' 'Dry' 'MoreWet' 'Wet' 'WetAndChemicals'] методом классификации.\n",
    "Результат работы моделей - точность классификации на тестовом (проверочном) наборе данных."
   ]
  },
  {
   "cell_type": "code",
   "execution_count": null,
   "id": "6991734b-7f41-47af-909d-845503a0eb08",
   "metadata": {},
   "outputs": [],
   "source": [
    "import numpy as np\n",
    "from sklearn.model_selection import train_test_split\n",
    "from sklearn.ensemble import HistGradientBoostingClassifier\n",
    "from sklearn.ensemble import GradientBoostingClassifier\n",
    "from sklearn.ensemble import AdaBoostClassifier\n",
    "from sklearn.ensemble import ExtraTreesClassifier\n",
    "from sklearn.neighbors import KNeighborsClassifier\n",
    "from sklearn.naive_bayes import GaussianNB\n",
    "from sklearn.svm import SVC\n",
    "from sklearn.pipeline import make_pipeline\n",
    "from sklearn.preprocessing import StandardScaler"
   ]
  },
  {
   "cell_type": "code",
   "execution_count": 6,
   "id": "ca5e9184-68f0-487e-98d8-3f49eba61970",
   "metadata": {},
   "outputs": [],
   "source": [
    "# Прочитаем набор данных и меток из файлов, подготовленных на этапе ELT\n",
    "X = np.loadtxt('dataset.csv', delimiter=',', skiprows=1)\n",
    "y = np.loadtxt('labels.csv', delimiter=',', skiprows=1)[:, 0]"
   ]
  },
  {
   "cell_type": "code",
   "execution_count": 68,
   "id": "803f94e6-6375-4c25-925b-80639e0c1b32",
   "metadata": {},
   "outputs": [],
   "source": [
    "# Разделим набор данных на тренировочный и тестовый\n",
    "X_train, X_test, y_train, y_test = train_test_split(X, y, test_size=0.35, random_state=42)"
   ]
  },
  {
   "cell_type": "markdown",
   "id": "64c50230-2146-4a48-b950-52f394725692",
   "metadata": {},
   "source": [
    "### Метод опорных векторов"
   ]
  },
  {
   "cell_type": "code",
   "execution_count": 69,
   "id": "bc2e8615-6b6e-42be-bcd3-81c0f19ad789",
   "metadata": {},
   "outputs": [
    {
     "name": "stdout",
     "output_type": "stream",
     "text": [
      "Средняя точность: 0.7837837837837838\n"
     ]
    }
   ],
   "source": [
    "clf = make_pipeline(StandardScaler(), SVC(gamma='auto'))\n",
    "clf.fit(X_train, y_train)\n",
    "acc = clf.score(X_test, y_test)\n",
    "print(f'Средняя точность: {acc}')"
   ]
  },
  {
   "cell_type": "markdown",
   "id": "8084fc5b-cc59-40de-b789-9e373ee525d2",
   "metadata": {},
   "source": [
    "### Алгоритм к-ближайших соседей"
   ]
  },
  {
   "cell_type": "code",
   "execution_count": 70,
   "id": "f559497e-a9f4-41cd-b583-c52a9fe4e6da",
   "metadata": {},
   "outputs": [
    {
     "name": "stdout",
     "output_type": "stream",
     "text": [
      "Средняя точность: 0.7837837837837838\n"
     ]
    }
   ],
   "source": [
    "clf = KNeighborsClassifier(n_neighbors=9)\n",
    "clf.fit(X_train, y_train)\n",
    "acc = clf.score(X_test, y_test)\n",
    "print(f'Средняя точность: {acc}')"
   ]
  },
  {
   "cell_type": "markdown",
   "id": "af8fdbec-5f1b-44be-9cdc-5100845a2ee4",
   "metadata": {},
   "source": [
    "### Гауссовский наивный байес"
   ]
  },
  {
   "cell_type": "code",
   "execution_count": 71,
   "id": "b0bdaabb-a2a2-42d7-9f76-38e33f44bf1f",
   "metadata": {},
   "outputs": [
    {
     "name": "stdout",
     "output_type": "stream",
     "text": [
      "Средняя точность: 0.7567567567567568\n"
     ]
    }
   ],
   "source": [
    "clf = GaussianNB()\n",
    "clf.fit(X_train, y_train)\n",
    "acc = clf.score(X_test, y_test)\n",
    "print(f'Средняя точность: {acc}')"
   ]
  },
  {
   "cell_type": "markdown",
   "id": "3d475b16-6aa0-4e8e-929d-51d8af1d9cde",
   "metadata": {},
   "source": [
    "### Адаптивный бустинг"
   ]
  },
  {
   "cell_type": "code",
   "execution_count": 72,
   "id": "5a33e45a-e549-46e9-8446-41fa69eac580",
   "metadata": {},
   "outputs": [
    {
     "name": "stdout",
     "output_type": "stream",
     "text": [
      "Средняя точность: 0.7567567567567568\n"
     ]
    }
   ],
   "source": [
    "clf = AdaBoostClassifier(n_estimators=50, learning_rate=0.7, random_state=42)\n",
    "clf.fit(X_train, y_train)\n",
    "acc = clf.score(X_test, y_test)\n",
    "print(f'Средняя точность: {acc}')"
   ]
  },
  {
   "cell_type": "markdown",
   "id": "0ee5c72e-9b35-4a9c-a162-219473f06d1d",
   "metadata": {},
   "source": [
    "### Гистограммный градиентный бустинг"
   ]
  },
  {
   "cell_type": "code",
   "execution_count": 73,
   "id": "7aac8347-ea87-44a9-a95b-13ea83b83882",
   "metadata": {},
   "outputs": [
    {
     "name": "stdout",
     "output_type": "stream",
     "text": [
      "Средняя точность: 0.6486486486486487\n"
     ]
    }
   ],
   "source": [
    "clf = HistGradientBoostingClassifier(max_features=1.0, random_state=42)\n",
    "clf.fit(X_train, y_train)\n",
    "acc = clf.score(X_test, y_test)\n",
    "print(f'Средняя точность: {acc}')"
   ]
  },
  {
   "cell_type": "markdown",
   "id": "d6f88e21-91d3-4d05-95bb-7185b0c7b37c",
   "metadata": {},
   "source": [
    "### Градиентный бустинг"
   ]
  },
  {
   "cell_type": "code",
   "execution_count": 74,
   "id": "5393b48a-492d-452c-ae40-acfdddaa7b15",
   "metadata": {},
   "outputs": [
    {
     "name": "stdout",
     "output_type": "stream",
     "text": [
      "Средняя точность: 0.6486486486486487\n"
     ]
    }
   ],
   "source": [
    "clf = GradientBoostingClassifier(n_estimators=50, max_features=1.0, random_state=42)\n",
    "clf.fit(X_train, y_train)\n",
    "acc = clf.score(X_test, y_test)\n",
    "print(f'Средняя точность: {acc}')"
   ]
  },
  {
   "cell_type": "markdown",
   "id": "f11b409a-7d25-4062-92e4-1823cfaf4640",
   "metadata": {},
   "source": [
    "### Экстремально случайные деревья"
   ]
  },
  {
   "cell_type": "code",
   "execution_count": 75,
   "id": "de582e1a-80dd-47db-abd5-ca8d69db20c0",
   "metadata": {},
   "outputs": [
    {
     "name": "stdout",
     "output_type": "stream",
     "text": [
      "Средняя точность: 0.5945945945945946\n"
     ]
    }
   ],
   "source": [
    "clf = ExtraTreesClassifier(n_estimators=25, random_state=42)\n",
    "clf.fit(X_train, y_train)\n",
    "acc = clf.score(X_test, y_test)\n",
    "print(f'Средняя точность: {acc}')"
   ]
  },
  {
   "cell_type": "code",
   "execution_count": null,
   "id": "3d0de4a6-19d0-4455-8660-b069385dd5d2",
   "metadata": {},
   "outputs": [],
   "source": []
  }
 ],
 "metadata": {
  "kernelspec": {
   "display_name": "Python 3 (ipykernel)",
   "language": "python",
   "name": "python3"
  },
  "language_info": {
   "codemirror_mode": {
    "name": "ipython",
    "version": 3
   },
   "file_extension": ".py",
   "mimetype": "text/x-python",
   "name": "python",
   "nbconvert_exporter": "python",
   "pygments_lexer": "ipython3",
   "version": "3.13.2"
  }
 },
 "nbformat": 4,
 "nbformat_minor": 5
}
